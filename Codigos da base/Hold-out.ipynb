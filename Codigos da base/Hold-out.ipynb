{
  "cells": [
    {
      "cell_type": "code",
      "source": [
        "# Importa a função que é usada para dividir o dataset em conjuntos de treino e teste\n",
        "# Importação do dataset IRIS\n",
        "# Importa a função que é usada para criar um modelo de classificação baseado no algoritmo K-Nearest Neighbors (KNN)\n",
        "\n",
        "# X (Dados) = Atribui as características das amostras do dataset (comprimento e largura das sépalas e pétalas)\n",
        "# Y (Resultados) = Atribui as classes das amostras (0, 1 ou 2, correspondendo às espécies de Iris)\n",
        "\n",
        "from sklearn.model_selection import train_test_split\n",
        "from sklearn.datasets import load_iris\n",
        "from sklearn.neighbors import KNeighborsClassifier\n",
        "from sklearn import metrics\n",
        "\n",
        "dataset = load_iris()\n",
        "x = dataset.data\n",
        "y = dataset.target"
      ],
      "metadata": {
        "id": "aX84QyD8HNZR",
        "collapsed": true
      },
      "execution_count": 5,
      "outputs": []
    },
    {
      "cell_type": "code",
      "source": [
        "# Dividindo os dados em 70% para treino e 30% para teste (Hold-out)\n",
        "xTrain, xTest, yTrain, yTest = train_test_split(x, y, test_size=0.30, random_state=42)\n",
        "\n",
        "# Verificando as dimensões dos dados divididos\n",
        "print(f\"xTrain shape: {xTrain.shape}\")  # 70% das características usadas no treino\n",
        "print(f\"yTrain shape: {yTrain.shape}\")  # 70% dos resultados usados no treino\n",
        "print(f\"xTest shape: {xTest.shape}\")    # 30% das características usadas no teste\n",
        "print(f\"yTest shape: {yTest.shape}\")    # 30% dos resultados usados no teste"
      ],
      "metadata": {
        "id": "a2tqksPpKKuM",
        "colab": {
          "base_uri": "https://localhost:8080/"
        },
        "collapsed": true,
        "outputId": "5cf381de-a2e3-4954-f94b-bb91721e6ecc"
      },
      "execution_count": 6,
      "outputs": [
        {
          "output_type": "stream",
          "name": "stdout",
          "text": [
            "xTrain shape: (105, 4)\n",
            "yTrain shape: (105,)\n",
            "xTest shape: (45, 4)\n",
            "yTest shape: (45,)\n"
          ]
        }
      ]
    },
    {
      "cell_type": "code",
      "source": [
        "knn = KNeighborsClassifier(n_neighbors=3)                                 # Instanciando o modelo KNN (K-Nearest Neighbors)\n",
        "knn.fit(xTrain, yTrain)                                                   # Treinando o modelo com o conjunto de treino\n",
        "speciesResultPredict = knn.predict(xTest)                                 # Realizando a predição no conjunto de teste\n",
        "\n",
        "accuracy = metrics.accuracy_score(yTest, speciesResultPredict)            # Avaliando a performance do modelo utilizando Hold-out\n",
        "print(f\"Accuracy: {accuracy:.2f}\")\n",
        "\n",
        "confusion_matrix = metrics.confusion_matrix(yTest, speciesResultPredict)  # Exibindo a matriz de confusão como parte da avaliação do modelo\n",
        "print(\"Confusion Matrix:\\n\", confusion_matrix)"
      ],
      "metadata": {
        "colab": {
          "base_uri": "https://localhost:8080/"
        },
        "id": "mFsINcKLLCE0",
        "outputId": "276eb09e-b5d4-4510-c275-8ca7e62cf7a8"
      },
      "execution_count": 7,
      "outputs": [
        {
          "output_type": "stream",
          "name": "stdout",
          "text": [
            "Accuracy: 1.00\n",
            "Confusion Matrix:\n",
            " [[19  0  0]\n",
            " [ 0 13  0]\n",
            " [ 0  0 13]]\n"
          ]
        }
      ]
    }
  ],
  "metadata": {
    "colab": {
      "toc_visible": true,
      "provenance": []
    },
    "kernelspec": {
      "display_name": "Python 3",
      "name": "python3"
    }
  },
  "nbformat": 4,
  "nbformat_minor": 0
}